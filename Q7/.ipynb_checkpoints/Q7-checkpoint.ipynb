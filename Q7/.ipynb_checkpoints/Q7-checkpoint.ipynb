{
 "cells": [
  {
   "cell_type": "code",
   "execution_count": 32,
   "metadata": {},
   "outputs": [],
   "source": [
    "import numpy as np"
   ]
  },
  {
   "cell_type": "code",
   "execution_count": 44,
   "metadata": {},
   "outputs": [],
   "source": [
    "# 7.1b  code: coordinates ====> index (2-dimension)\n",
    "\n",
    "coordinates = np.loadtxt('/Users/zhaoweiyi/Desktop/AY20_MBDS_questions/Question 7/Question 7.1/input_coordinates_7_1.txt',comments=\"x\")\n",
    "\n",
    "def coordinate_to_index(L1, L2, x):\n",
    "    x1 = x[0]\n",
    "    x2 = x[1]\n",
    "    if x1 > (L1 - 1) or x2 > (L2 - 1):\n",
    "        return(\"out of bound\")\n",
    "    else: \n",
    "        return int(x1 + L1*x2)\n",
    "coordinate = np.loadtxt('/Users/zhaoweiyi/Desktop/AY20_MBDS_questions/Question 7/Question 7.1/input_coordinates_7_1.txt',comments=\"x\")\n",
    "with open('/Users/zhaoweiyi/Desktop/AY20_MBDS_questions/Q7/output_index_7_1', 'w') as f:\n",
    "    print(\"index\",file=f)\n",
    "    for i in coordinate:\n",
    "        print('{}'.format(coordinates_to_indexs(50, 57, i)),file=f)"
   ]
  },
  {
   "cell_type": "code",
   "execution_count": 45,
   "metadata": {},
   "outputs": [],
   "source": [
    "# 7.1b code: index ====> coordinates(2-dimension)\n",
    "\n",
    "index= np.loadtxt('/Users/zhaoweiyi/Desktop/AY20_MBDS_questions/Question 7/Question 7.1/input_index_7_1.txt',comments=\"index\")\n",
    "\n",
    "def index_to_coordinate(L1, L2, index):\n",
    "    if index > L1*L2-1:\n",
    "        return (\"out of bound\")\n",
    "    else: \n",
    "        X1 = index % L1\n",
    "        X2 = index // L1\n",
    "        return int(X1),int(X2)\n",
    "\n",
    "with open('/Users/zhaoweiyi/Desktop/AY20_MBDS_questions/Q7/output_coordinates_7_1', 'w') as f:\n",
    "    print(\"x1\\tx2\",file=f)\n",
    "    for i in index:\n",
    "        X1, X2 = index_to_coordinate(50, 57, i)\n",
    "        print('{}\\t{}'.format(X1, X2), file=f)"
   ]
  },
  {
   "cell_type": "code",
   "execution_count": null,
   "metadata": {},
   "outputs": [],
   "source": [
    "# 7.2b code: coordinates ====> index (6-dimension)\n",
    "coordinate = np.loadtxt('/Users/zhaoweiyi/Desktop/AY20_MBDS_questions/Question 7/Question 7.2/input_coordinates_7_2.txt',comments=\"x\")\n",
    "\n",
    "def "
   ]
  },
  {
   "cell_type": "code",
   "execution_count": null,
   "metadata": {},
   "outputs": [],
   "source": []
  }
 ],
 "metadata": {
  "kernelspec": {
   "display_name": "Python 3",
   "language": "python",
   "name": "python3"
  },
  "language_info": {
   "codemirror_mode": {
    "name": "ipython",
    "version": 3
   },
   "file_extension": ".py",
   "mimetype": "text/x-python",
   "name": "python",
   "nbconvert_exporter": "python",
   "pygments_lexer": "ipython3",
   "version": "3.7.4"
  }
 },
 "nbformat": 4,
 "nbformat_minor": 4
}
